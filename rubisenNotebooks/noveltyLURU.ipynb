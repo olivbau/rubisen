{
 "cells": [
  {
   "cell_type": "markdown",
   "metadata": {},
   "source": [
    "# Projet : reconnaissance biométrique au clavier (novelty)\n",
    "_Un projet d'Olivier Baurain, Romain Ceccoti, Jules Micho, Baptiste Millot et Hao Zhu_\n",
    "\n",
    "_Avril 2019_\n",
    "\n",
    "---"
   ]
  },
  {
   "attachments": {},
   "cell_type": "markdown",
   "metadata": {},
   "source": [
    "L'objectif de ce notebook est de proposer une première approche à la reconnaissance comportementale avec un Rubik's Cube, voir si l'on peut discerner un utilisateur légitime d'un imposteur à sa manière d'utiliser un Rubik's Cube.\n",
    "Pour ce faire nous allons utiliser un alogrithme de novelty issue de la bibliothèque [scikit-learn](https://scikit-learn.org/stable/index.html).\n",
    "\n",
    "![novelty_detection](https://scikit-learn.org/stable/_images/sphx_glr_plot_lof_novelty_detection_001.png)\n",
    "\n",
    "<p style=\"text-align: center;\"><b><i>Novelty Detection Example</i></b></p>\n",
    "\n",
    "Voici les trois grandes étapes de ce notebook:\n",
    "\n",
    "1. Récolte de données qui vont etre utilisé par notre algorithme\n",
    "2. Exploitation des données\n",
    "3. Interpretation de nos résultats\n"
   ]
  },
  {
   "cell_type": "code",
   "execution_count": 1,
   "metadata": {},
   "outputs": [],
   "source": [
    "import pandas as pd\n",
    "import sklearn\n",
    "import numpy as np\n",
    "import matplotlib.pyplot as plt\n",
    "from sklearn.neighbors import LocalOutlierFactor\n",
    "from sklearn.model_selection import train_test_split"
   ]
  },
  {
   "cell_type": "code",
   "execution_count": 2,
   "metadata": {},
   "outputs": [],
   "source": [
    "# Load dataset\n",
    "ds = pd.read_csv('DatasetLURU.csv')"
   ]
  },
  {
   "cell_type": "code",
   "execution_count": 3,
   "metadata": {},
   "outputs": [
    {
     "data": {
      "text/plain": [
       "date      1553159921339\n",
       "user           baptiste\n",
       "device         Gi161124\n",
       "0                     0\n",
       "1                  1376\n",
       "2                  1140\n",
       "3                   660\n",
       "4                   962\n",
       "5                  1020\n",
       "6                   840\n",
       "7                  1259\n",
       "Name: 0, dtype: object"
      ]
     },
     "execution_count": 3,
     "metadata": {},
     "output_type": "execute_result"
    }
   ],
   "source": [
    "ds.iloc[0,:]"
   ]
  },
  {
   "cell_type": "code",
   "execution_count": 4,
   "metadata": {},
   "outputs": [],
   "source": [
    "# Création des data de test et de train pour Olivier\n",
    "X = ds.loc[ds['user'] == 'olivier'].drop(['date', 'user', 'device', '0'], axis=1)\n",
    "y = ds.loc[ds['user'] == 'olivier'].user\n",
    "\n",
    "X_train, X_test, _, _ = train_test_split(X, y, test_size=0.20, shuffle=True)\n",
    "X_outliers= ds.loc[ds['user'] != 'olivier'].drop(['date', 'user', 'device', '0'], axis=1)\n"
   ]
  },
  {
   "cell_type": "code",
   "execution_count": 5,
   "metadata": {},
   "outputs": [
    {
     "data": {
      "text/plain": [
       "LocalOutlierFactor(algorithm='auto', contamination='auto', leaf_size=30,\n",
       "          metric='minkowski', metric_params=None, n_jobs=None,\n",
       "          n_neighbors=20, novelty=True, p=2)"
      ]
     },
     "execution_count": 5,
     "metadata": {},
     "output_type": "execute_result"
    }
   ],
   "source": [
    "#Creation du model\n",
    "clf = LocalOutlierFactor(contamination='auto', novelty=True, algorithm='auto')\n",
    "\n",
    "#Fitting du model\n",
    "clf.fit(X_train)"
   ]
  },
  {
   "cell_type": "code",
   "execution_count": 6,
   "metadata": {},
   "outputs": [],
   "source": [
    "y_pred_test = clf.predict(X_test)\n",
    "y_pred_outliers = clf.predict(X_outliers)\n",
    "n_error_test = y_pred_test[y_pred_test == -1].size\n",
    "n_error_outliers = y_pred_outliers[y_pred_outliers == 1].size"
   ]
  },
  {
   "cell_type": "code",
   "execution_count": 7,
   "metadata": {},
   "outputs": [
    {
     "name": "stdout",
     "output_type": "stream",
     "text": [
      "Errors novel regular: 2/10 (20%)\n",
      "Errors novel abnormal: 28/150 (18%)\n"
     ]
    }
   ],
   "source": [
    "print(\"Errors novel regular: %d/%d (%d%%)\" % (n_error_test, len(y_pred_test), n_error_test*100/len(y_pred_test)))\n",
    "print(\"Errors novel abnormal: %d/%d (%d%%)\"% (n_error_outliers, len(y_pred_outliers), n_error_outliers*100/len(y_pred_outliers)))"
   ]
  }
 ],
 "metadata": {
  "kernelspec": {
   "display_name": "Python 3",
   "language": "python",
   "name": "python3"
  },
  "language_info": {
   "codemirror_mode": {
    "name": "ipython",
    "version": 3
   },
   "file_extension": ".py",
   "mimetype": "text/x-python",
   "name": "python",
   "nbconvert_exporter": "python",
   "pygments_lexer": "ipython3",
   "version": "3.7.3"
  }
 },
 "nbformat": 4,
 "nbformat_minor": 1
}
