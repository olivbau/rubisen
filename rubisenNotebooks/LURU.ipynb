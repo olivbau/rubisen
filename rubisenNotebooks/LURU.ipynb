{
 "cells": [
  {
   "cell_type": "markdown",
   "metadata": {},
   "source": [
    "# Projet : reconnaissance biométrique au clavier\n",
    "_Un projet d'Olivier Baurain, Romain Ceccoti, Jules Micho, Baptiste Millot et Hao Zhu_\n",
    "\n",
    "_Avril 2019_\n",
    "\n",
    "---"
   ]
  },
  {
   "cell_type": "markdown",
   "metadata": {},
   "source": [
    "L'objectif de ce notebook est de proposer une première approche à la reconnaissance comportementale avec un Rubik's Cube, voir si l'on peut discerner un utilisateur d'un autre à sa manière d'utiliser un Rubik's Cube.\n",
    "Pour ce faire nous allons utiliser un alogrithme de classification issue de la bibliothèque [scikit-learn](https://scikit-learn.org/stable/index.html).\n",
    "\n",
    "Voici les trois grandes étapes de ce notebook:\n",
    "\n",
    "1. Récolte de données qui vont etre utilisé par notre algorithme\n",
    "2. Exploitation des données\n",
    "3. Interpretation de nos résultats\n"
   ]
  },
  {
   "cell_type": "code",
   "execution_count": 8,
   "metadata": {},
   "outputs": [],
   "source": [
    "# Importation des dépendances\n",
    "import pandas as pd\n",
    "import numpy as np\n",
    "import matplotlib.pyplot as plt\n",
    "import sklearn"
   ]
  },
  {
   "cell_type": "markdown",
   "metadata": {},
   "source": [
    "# 1. Récolte de données\n",
    "\n",
    "Pour récolter des données d'utilisation de Rubik's Cube nous avons utilisé le cube Giiker de Xiaomi [1]   \n",
    "Nous nous sommes limité a la récolte d'une séquence particulière: L'URU'LUR'U' [2]   \n",
    "Pour chaque séquence nous récoltons 7 informations: le temps qui s'est écoulé entre chaque mouvement.   \n",
    "\n",
    "Nous avons récolté les données pour 4 sujets : Baptiste, Jules, Olivier, Romain   \n",
    "Chaque sujet a effectué la séquence 50 fois.   \n",
    "Nous avons créé une interface web pour facilité la récolte ces données: https://olivbau.github.io/rubisen-sandbox/#/collect   \n",
    "\n",
    "[1] http://giiker.cn/   \n",
    "[2] https://en.wikipedia.org/wiki/Rubik%27s_Cube#Move_notation   "
   ]
  },
  {
   "cell_type": "code",
   "execution_count": 3,
   "metadata": {},
   "outputs": [],
   "source": [
    "# Chargement du dataset\n",
    "ds = pd.read_csv('DatasetLURU.csv')"
   ]
  },
  {
   "cell_type": "code",
   "execution_count": 4,
   "metadata": {},
   "outputs": [
    {
     "data": {
      "text/html": [
       "<div>\n",
       "<style scoped>\n",
       "    .dataframe tbody tr th:only-of-type {\n",
       "        vertical-align: middle;\n",
       "    }\n",
       "\n",
       "    .dataframe tbody tr th {\n",
       "        vertical-align: top;\n",
       "    }\n",
       "\n",
       "    .dataframe thead th {\n",
       "        text-align: right;\n",
       "    }\n",
       "</style>\n",
       "<table border=\"1\" class=\"dataframe\">\n",
       "  <thead>\n",
       "    <tr style=\"text-align: right;\">\n",
       "      <th></th>\n",
       "      <th>date</th>\n",
       "      <th>user</th>\n",
       "      <th>device</th>\n",
       "      <th>0</th>\n",
       "      <th>1</th>\n",
       "      <th>2</th>\n",
       "      <th>3</th>\n",
       "      <th>4</th>\n",
       "      <th>5</th>\n",
       "      <th>6</th>\n",
       "      <th>7</th>\n",
       "    </tr>\n",
       "  </thead>\n",
       "  <tbody>\n",
       "    <tr>\n",
       "      <th>0</th>\n",
       "      <td>1553159921339</td>\n",
       "      <td>baptiste</td>\n",
       "      <td>Gi161124</td>\n",
       "      <td>0</td>\n",
       "      <td>1376</td>\n",
       "      <td>1140</td>\n",
       "      <td>660</td>\n",
       "      <td>962</td>\n",
       "      <td>1020</td>\n",
       "      <td>840</td>\n",
       "      <td>1259</td>\n",
       "    </tr>\n",
       "    <tr>\n",
       "      <th>1</th>\n",
       "      <td>1553159954516</td>\n",
       "      <td>baptiste</td>\n",
       "      <td>Gi161124</td>\n",
       "      <td>0</td>\n",
       "      <td>960</td>\n",
       "      <td>1680</td>\n",
       "      <td>661</td>\n",
       "      <td>4200</td>\n",
       "      <td>1920</td>\n",
       "      <td>2582</td>\n",
       "      <td>1078</td>\n",
       "    </tr>\n",
       "    <tr>\n",
       "      <th>2</th>\n",
       "      <td>1553159972516</td>\n",
       "      <td>baptiste</td>\n",
       "      <td>Gi161124</td>\n",
       "      <td>0</td>\n",
       "      <td>660</td>\n",
       "      <td>1500</td>\n",
       "      <td>720</td>\n",
       "      <td>1621</td>\n",
       "      <td>719</td>\n",
       "      <td>2343</td>\n",
       "      <td>1377</td>\n",
       "    </tr>\n",
       "    <tr>\n",
       "      <th>3</th>\n",
       "      <td>1553160002817</td>\n",
       "      <td>baptiste</td>\n",
       "      <td>Gi161124</td>\n",
       "      <td>0</td>\n",
       "      <td>599</td>\n",
       "      <td>1320</td>\n",
       "      <td>600</td>\n",
       "      <td>661</td>\n",
       "      <td>599</td>\n",
       "      <td>2404</td>\n",
       "      <td>477</td>\n",
       "    </tr>\n",
       "    <tr>\n",
       "      <th>4</th>\n",
       "      <td>1553160012118</td>\n",
       "      <td>baptiste</td>\n",
       "      <td>Gi161124</td>\n",
       "      <td>0</td>\n",
       "      <td>478</td>\n",
       "      <td>1205</td>\n",
       "      <td>896</td>\n",
       "      <td>1258</td>\n",
       "      <td>541</td>\n",
       "      <td>1199</td>\n",
       "      <td>541</td>\n",
       "    </tr>\n",
       "  </tbody>\n",
       "</table>\n",
       "</div>"
      ],
      "text/plain": [
       "            date      user    device  0     1     2    3     4     5     6  \\\n",
       "0  1553159921339  baptiste  Gi161124  0  1376  1140  660   962  1020   840   \n",
       "1  1553159954516  baptiste  Gi161124  0   960  1680  661  4200  1920  2582   \n",
       "2  1553159972516  baptiste  Gi161124  0   660  1500  720  1621   719  2343   \n",
       "3  1553160002817  baptiste  Gi161124  0   599  1320  600   661   599  2404   \n",
       "4  1553160012118  baptiste  Gi161124  0   478  1205  896  1258   541  1199   \n",
       "\n",
       "      7  \n",
       "0  1259  \n",
       "1  1078  \n",
       "2  1377  \n",
       "3   477  \n",
       "4   541  "
      ]
     },
     "execution_count": 4,
     "metadata": {},
     "output_type": "execute_result"
    }
   ],
   "source": [
    "# Affichage des premières lignes du dataset\n",
    "ds.head()"
   ]
  },
  {
   "cell_type": "code",
   "execution_count": 10,
   "metadata": {},
   "outputs": [
    {
     "data": {
      "text/plain": [
       "date      1553159921339\n",
       "user           baptiste\n",
       "device         Gi161124\n",
       "0                     0\n",
       "1                  1376\n",
       "2                  1140\n",
       "3                   660\n",
       "4                   962\n",
       "5                  1020\n",
       "6                   840\n",
       "7                  1259\n",
       "Name: 0, dtype: object"
      ]
     },
     "execution_count": 10,
     "metadata": {},
     "output_type": "execute_result"
    }
   ],
   "source": [
    "# Affichage d'une ligne du dataset\n",
    "ds.iloc[0,:]"
   ]
  },
  {
   "cell_type": "code",
   "execution_count": 6,
   "metadata": {},
   "outputs": [
    {
     "name": "stdout",
     "output_type": "stream",
     "text": [
      "['baptiste' 'jules' 'olivier' 'romain']\n"
     ]
    }
   ],
   "source": [
    "# Affichage des différents sujets\n",
    "users = ds.user.unique()\n",
    "print(users)"
   ]
  },
  {
   "cell_type": "markdown",
   "metadata": {},
   "source": [
    "# 2. Exploitation des données\n",
    "\n",
    "Maintenant nous allons créer et entrainner un model grâce aux données récupérées dans la partie précédente.   \n",
    "Le but de ce model est de nous dire en fonction d'une séquence fournis, quel est l'utilisateur qui l'a réalisé.   \n",
    "C'est un model de classification, plus précisément nous utiliserons un algorithme SVM [3]   \n",
    "Aussi nous sépérons nos données récoltées en 2: \"train\" et \"test\".   \n",
    "Les données de train seront utilisé pour l'entrainement du model, alors que celles de test pour le tester.   \n",
    "\n",
    "[3] https://scikit-learn.org/stable/modules/svm.html     "
   ]
  },
  {
   "cell_type": "code",
   "execution_count": 17,
   "metadata": {},
   "outputs": [],
   "source": [
    "# Création des data de test et de train\n",
    "from sklearn.model_selection import train_test_split\n",
    "\n",
    "X = ds.drop(['date', 'user', 'device'], axis=1)\n",
    "y = ds.user\n",
    "\n",
    "X_train, X_test, y_train, y_test = train_test_split(X, y, test_size=0.50, random_state=42, stratify=y)"
   ]
  },
  {
   "cell_type": "code",
   "execution_count": 20,
   "metadata": {},
   "outputs": [
    {
     "data": {
      "text/plain": [
       "SVC(C=1.0, cache_size=200, class_weight=None, coef0=0.0,\n",
       "  decision_function_shape='ovr', degree=3, gamma='scale', kernel='rbf',\n",
       "  max_iter=-1, probability=True, random_state=None, shrinking=True,\n",
       "  tol=0.001, verbose=False)"
      ]
     },
     "execution_count": 20,
     "metadata": {},
     "output_type": "execute_result"
    }
   ],
   "source": [
    "# Création du model\n",
    "from sklearn.svm import SVC\n",
    "clf = SVC(gamma='scale', probability = True)\n",
    "clf.fit(X_train, y_train)"
   ]
  },
  {
   "cell_type": "markdown",
   "metadata": {},
   "source": [
    "# 3. Résultats\n",
    "\n",
    "Maintenant il ne nous reste plus qu'a utiliser les données de test pour tester notre model.   "
   ]
  },
  {
   "cell_type": "code",
   "execution_count": 27,
   "metadata": {},
   "outputs": [],
   "source": [
    "# Test du model\n",
    "y_pred = clf.predict(X_test)"
   ]
  },
  {
   "cell_type": "code",
   "execution_count": 28,
   "metadata": {},
   "outputs": [
    {
     "name": "stdout",
     "output_type": "stream",
     "text": [
      "              precision    recall  f1-score   support\n",
      "\n",
      "    baptiste       0.86      0.72      0.78        25\n",
      "       jules       1.00      0.96      0.98        25\n",
      "     olivier       0.76      0.88      0.81        25\n",
      "      romain       0.96      1.00      0.98        25\n",
      "\n",
      "   micro avg       0.89      0.89      0.89       100\n",
      "   macro avg       0.89      0.89      0.89       100\n",
      "weighted avg       0.89      0.89      0.89       100\n",
      "\n"
     ]
    }
   ],
   "source": [
    "# Affichage de résultats\n",
    "from sklearn.metrics import classification_report\n",
    "\n",
    "print(classification_report(y_test, y_pred))"
   ]
  },
  {
   "cell_type": "markdown",
   "metadata": {},
   "source": [
    "Comme nous pouvons le voir ci-dessus,   \n",
    "nous obtenons des résultats plûtot satisfaisant   \n",
    "Pour plus de détails le calcul et la signification de ces scores cliquez [ici](https://scikit-learn.org/stable/modules/generated/sklearn.metrics.precision_recall_fscore_support.html)   \n",
    "Ci dessous le détail des résultats du model\n"
   ]
  },
  {
   "cell_type": "code",
   "execution_count": 33,
   "metadata": {},
   "outputs": [
    {
     "name": "stdout",
     "output_type": "stream",
     "text": [
      "X-axis: Model result\n",
      "Y-axis: Real user\n",
      "\n",
      "          baptiste  jules  olivier  romain\n",
      "baptiste        18      0        3       0\n",
      "jules            0     24        0       0\n",
      "olivier          7      0       22       0\n",
      "romain           0      1        0      25\n"
     ]
    }
   ],
   "source": [
    "r = pd.DataFrame(np.zeros((users.size, users.size)), columns=users, index=users)\n",
    "for index, user in enumerate(y_test.tolist()):\n",
    "    r[user][y_pred[index]] += 1\n",
    "print('X-axis: Model result')\n",
    "print('Y-axis: Real user\\n')\n",
    "print(r.astype(int))"
   ]
  },
  {
   "cell_type": "markdown",
   "metadata": {},
   "source": [
    "On peut voir que Olivier et Baptiste sont plus souvent confondu.   \n",
    "On pourrait en déduire qu'ils ont des comportements similaire (du moins par rapport à nos méthodes de récoltes de données)   \n",
    "Jules et Romain quant à eux semblent avoir des comportements différents des autres utilisateurs"
   ]
  }
 ],
 "metadata": {
  "kernelspec": {
   "display_name": "Python 3",
   "language": "python",
   "name": "python3"
  },
  "language_info": {
   "codemirror_mode": {
    "name": "ipython",
    "version": 3
   },
   "file_extension": ".py",
   "mimetype": "text/x-python",
   "name": "python",
   "nbconvert_exporter": "python",
   "pygments_lexer": "ipython3",
   "version": "3.7.3"
  }
 },
 "nbformat": 4,
 "nbformat_minor": 1
}
